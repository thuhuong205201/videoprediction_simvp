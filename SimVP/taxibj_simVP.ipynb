{
  "nbformat": 4,
  "nbformat_minor": 0,
  "metadata": {
    "colab": {
      "provenance": [],
      "collapsed_sections": [
        "W-j4g2st5PDg"
      ]
    },
    "kernelspec": {
      "name": "python3",
      "display_name": "Python 3"
    },
    "language_info": {
      "name": "python"
    },
    "accelerator": "GPU",
    "gpuClass": "standard"
  },
  "cells": [
    {
      "cell_type": "code",
      "source": [
        "from google.colab import drive\n",
        "drive.mount('/content/drive')"
      ],
      "metadata": {
        "colab": {
          "base_uri": "https://localhost:8080/"
        },
        "id": "QknYDYrxnN55",
        "outputId": "d75db88a-830f-4c7d-b73a-525908458cea"
      },
      "execution_count": null,
      "outputs": [
        {
          "output_type": "stream",
          "name": "stdout",
          "text": [
            "Drive already mounted at /content/drive; to attempt to forcibly remount, call drive.mount(\"/content/drive\", force_remount=True).\n"
          ]
        }
      ]
    },
    {
      "cell_type": "code",
      "source": [
        "#!unzip '/content/drive/MyDrive/Deep_learning/Final/dataKTH/kth.zip' -d '/content/drive/MyDrive/Deep_learning/Final/dataKTH'\n",
        "#!unzip '/content/drive/MyDrive/Deep_learning/Final/datataxibj/TrafficBJ.zip' -d '/content/drive/MyDrive/Deep_learning/Final/datataxibj'\n"
      ],
      "metadata": {
        "colab": {
          "base_uri": "https://localhost:8080/"
        },
        "id": "DZtUZ9xkpp-Q",
        "outputId": "5dc620d5-903e-48c3-b707-c26cde5cbcb0"
      },
      "execution_count": null,
      "outputs": [
        {
          "output_type": "stream",
          "name": "stdout",
          "text": [
            "Archive:  /content/drive/MyDrive/Deep_learning/Final/datataxibj/TrafficBJ.zip\n",
            "warning:  stripped absolute path spec from /\n",
            "mapname:  conversion of  failed\n",
            " extracting: /content/drive/MyDrive/Deep_learning/Final/datataxibj/dataset.npz  \n"
          ]
        }
      ]
    },
    {
      "cell_type": "code",
      "execution_count": null,
      "metadata": {
        "colab": {
          "base_uri": "https://localhost:8080/"
        },
        "id": "rCbr2PKFd5yq",
        "outputId": "19b22334-b164-433a-b879-4fccb93660b2"
      },
      "outputs": [
        {
          "output_type": "stream",
          "name": "stdout",
          "text": [
            "Cloning into 'SimVP-Simpler-yet-Better-Video-Prediction'...\n",
            "remote: Enumerating objects: 58, done.\u001b[K\n",
            "remote: Counting objects: 100% (19/19), done.\u001b[K\n",
            "remote: Compressing objects: 100% (15/15), done.\u001b[K\n",
            "remote: Total 58 (delta 12), reused 4 (delta 4), pack-reused 39\u001b[K\n",
            "Unpacking objects: 100% (58/58), done.\n"
          ]
        }
      ],
      "source": [
        "#! git clone https://github.com/thuhuong205201/SimVP-Simpler-yet-Better-Video-Prediction.git\n",
        "!git clone https://github.com/gaozhangyang/SimVP-Simpler-yet-Better-Video-Prediction.git"
      ]
    },
    {
      "cell_type": "code",
      "source": [
        "%cd '/content/SimVP-Simpler-yet-Better-Video-Prediction'"
      ],
      "metadata": {
        "colab": {
          "base_uri": "https://localhost:8080/"
        },
        "id": "DToVh9fleG-Q",
        "outputId": "9a431856-39f7-458b-d051-be2b73de88f5"
      },
      "execution_count": null,
      "outputs": [
        {
          "output_type": "stream",
          "name": "stdout",
          "text": [
            "/content/SimVP-Simpler-yet-Better-Video-Prediction\n"
          ]
        }
      ]
    },
    {
      "cell_type": "code",
      "source": [
        "!python main.py"
      ],
      "metadata": {
        "colab": {
          "base_uri": "https://localhost:8080/"
        },
        "id": "ewNhjYYZeHBL",
        "outputId": "cb4ffc1b-6872-4165-bd3c-03ce60d71a98"
      },
      "execution_count": null,
      "outputs": [
        {
          "output_type": "stream",
          "name": "stdout",
          "text": [
            "Use GPU: 0\n",
            "tcmalloc: large alloc 1286275072 bytes == 0x619a000 @  0x7f7123bfd1e7 0x7f70a93b214e 0x7f70a940a745 0x7f70a93b59c8 0x5d8bb5 0x55ea20 0x55cd91 0x5d8941 0x49abe4 0x5d8868 0x4c8291 0x518079 0x55e284 0x5d8868 0x4990ca 0x55cd91 0x5d8941 0x5d8416 0x55f797 0x5d8868 0x4997a2 0x5d8868 0x4997a2 0x55d078 0x5d8941 0x5da092 0x586de6 0x5d8cdf 0x55dc1e 0x55cd91 0x55d743\n",
            "tcmalloc: large alloc 1286275072 bytes == 0x52cbc000 @  0x7f7123bfd1e7 0x7f70a93b214e 0x7f70a940a745 0x7f70a93b59c8 0x5d8bb5 0x55ea20 0x55cd91 0x5d8941 0x49abe4 0x5d8868 0x4c8291 0x518079 0x55e284 0x5d8868 0x4990ca 0x55cd91 0x5d8941 0x5d8416 0x55f797 0x5d8868 0x4997a2 0x5d8868 0x4997a2 0x55d078 0x5d8941 0x5da092 0x586de6 0x5d8cdf 0x55dc1e 0x55cd91 0x55d743\n",
            "\n",
            "device: \tcuda\t\n",
            "res_dir: \t./results\t\n",
            "ex_name: \tDebug\t\n",
            "use_gpu: \tTrue\t\n",
            "gpu: \t0\t\n",
            "seed: \t1\t\n",
            "batch_size: \t32\t\n",
            "val_batch_size: \t16\t\n",
            "data_root: \t/content/drive/MyDrive/Deep_learning/Final/datataxibj/\t\n",
            "dataname: \ttaxibj\t\n",
            "num_workers: \t8\t\n",
            "in_shape: \t[4, 2, 32, 32]\t\n",
            "hid_S: \t64\t\n",
            "hid_T: \t256\t\n",
            "N_S: \t4\t\n",
            "N_T: \t8\t\n",
            "groups: \t4\t\n",
            "epochs: \t51\t\n",
            "log_step: \t1\t\n",
            "lr: \t0.01\t\n",
            ">>>>>>>>>>>>>>>>>>>>>>>>>>>>  start <<<<<<<<<<<<<<<<<<<<<<<<<<<<<<<<\n",
            "train loss: 0.0020: 100% 614/614 [02:17<00:00,  4.46it/s]\n",
            "vali loss: 0.0007:  75% 63/84 [00:03<00:01, 17.28it/s]\n",
            "vali mse:3.0689, mae:46.3549, ssim:0.8616, psnr:33.4420\n",
            "Epoch: 1 | Train Loss: 0.0034 Vali Loss: 0.0015\n",
            "\n",
            "Validation loss decreased (inf --> 0.001498).  Saving model ...\n",
            "train loss: 0.0009: 100% 614/614 [02:10<00:00,  4.72it/s]\n",
            "vali loss: 0.0004:  75% 63/84 [00:03<00:01, 17.28it/s]\n",
            "vali mse:2.3314, mae:41.9264, ssim:0.8981, psnr:33.9953\n",
            "Epoch: 2 | Train Loss: 0.0017 Vali Loss: 0.0011\n",
            "\n",
            "Validation loss decreased (0.001498 --> 0.001138).  Saving model ...\n",
            "train loss: 0.0008: 100% 614/614 [02:10<00:00,  4.71it/s]\n",
            "vali loss: 0.0002:  75% 63/84 [00:03<00:01, 17.64it/s]\n",
            "vali mse:1.5521, mae:35.5764, ssim:0.9319, psnr:34.4539\n",
            "Epoch: 3 | Train Loss: 0.0009 Vali Loss: 0.0008\n",
            "\n",
            "Validation loss decreased (0.001138 --> 0.000758).  Saving model ...\n",
            "train loss: 0.0004: 100% 614/614 [02:09<00:00,  4.73it/s]\n",
            "vali loss: 0.0002:  75% 63/84 [00:03<00:01, 17.65it/s]\n",
            "vali mse:1.0024, mae:27.3646, ssim:0.9586, psnr:36.1951\n",
            "Epoch: 4 | Train Loss: 0.0006 Vali Loss: 0.0005\n",
            "\n",
            "Validation loss decreased (0.000758 --> 0.000489).  Saving model ...\n",
            "train loss: 0.0003: 100% 614/614 [02:09<00:00,  4.73it/s]\n",
            "vali loss: 0.0001:  75% 63/84 [00:03<00:01, 17.15it/s]\n",
            "vali mse:0.7491, mae:22.8482, ssim:0.9671, psnr:37.2507\n",
            "Epoch: 5 | Train Loss: 0.0005 Vali Loss: 0.0004\n",
            "\n",
            "Validation loss decreased (0.000489 --> 0.000366).  Saving model ...\n",
            "train loss: 0.0003: 100% 614/614 [02:10<00:00,  4.70it/s]\n",
            "vali loss: 0.0001:  75% 63/84 [00:03<00:01, 17.47it/s]\n",
            "vali mse:0.7222, mae:22.3985, ssim:0.9675, psnr:37.4863\n",
            "Epoch: 6 | Train Loss: 0.0004 Vali Loss: 0.0004\n",
            "\n",
            "Validation loss decreased (0.000366 --> 0.000353).  Saving model ...\n",
            "train loss: 0.0003: 100% 614/614 [02:09<00:00,  4.73it/s]\n",
            "vali loss: 0.0001:  75% 63/84 [00:03<00:01, 17.75it/s]\n",
            "vali mse:0.6881, mae:21.1287, ssim:0.9696, psnr:37.7672\n",
            "Epoch: 7 | Train Loss: 0.0004 Vali Loss: 0.0003\n",
            "\n",
            "Validation loss decreased (0.000353 --> 0.000336).  Saving model ...\n",
            "train loss: 0.0004: 100% 614/614 [02:10<00:00,  4.71it/s]\n",
            "vali loss: 0.0001:  75% 63/84 [00:03<00:01, 17.69it/s]\n",
            "vali mse:0.6332, mae:20.2111, ssim:0.9733, psnr:38.0984\n",
            "Epoch: 8 | Train Loss: 0.0003 Vali Loss: 0.0003\n",
            "\n",
            "Validation loss decreased (0.000336 --> 0.000309).  Saving model ...\n",
            "train loss: 0.0002: 100% 614/614 [02:09<00:00,  4.73it/s]\n",
            "vali loss: 0.0001:  75% 63/84 [00:03<00:01, 17.26it/s]\n",
            "vali mse:0.7036, mae:23.1403, ssim:0.9686, psnr:37.4221\n",
            "Epoch: 9 | Train Loss: 0.0003 Vali Loss: 0.0003\n",
            "\n",
            "train loss: 0.0002: 100% 614/614 [02:10<00:00,  4.70it/s]\n",
            "vali loss: 0.0001:  75% 63/84 [00:03<00:01, 17.52it/s]\n",
            "vali mse:0.6669, mae:21.9844, ssim:0.9686, psnr:37.8134\n",
            "Epoch: 10 | Train Loss: 0.0003 Vali Loss: 0.0003\n",
            "\n",
            "train loss: 0.0002: 100% 614/614 [02:09<00:00,  4.73it/s]\n",
            "vali loss: 0.0001:  75% 63/84 [00:03<00:01, 17.78it/s]\n",
            "vali mse:0.6300, mae:20.3675, ssim:0.9726, psnr:38.2061\n",
            "Epoch: 11 | Train Loss: 0.0003 Vali Loss: 0.0003\n",
            "\n",
            "Validation loss decreased (0.000309 --> 0.000308).  Saving model ...\n",
            "train loss: 0.0002: 100% 614/614 [02:09<00:00,  4.73it/s]\n",
            "vali loss: 0.0001:  75% 63/84 [00:03<00:01, 17.40it/s]\n",
            "vali mse:0.6115, mae:19.5985, ssim:0.9735, psnr:38.2487\n",
            "Epoch: 12 | Train Loss: 0.0003 Vali Loss: 0.0003\n",
            "\n",
            "Validation loss decreased (0.000308 --> 0.000299).  Saving model ...\n",
            "train loss: 0.0002: 100% 614/614 [02:10<00:00,  4.70it/s]\n",
            "vali loss: 0.0001:  75% 63/84 [00:03<00:01, 17.55it/s]\n",
            "vali mse:0.6189, mae:19.7285, ssim:0.9733, psnr:38.3140\n",
            "Epoch: 13 | Train Loss: 0.0003 Vali Loss: 0.0003\n",
            "\n",
            "train loss: 0.0004: 100% 614/614 [02:09<00:00,  4.73it/s]\n",
            "vali loss: 0.0002:  75% 63/84 [00:03<00:01, 17.60it/s]\n",
            "vali mse:0.7869, mae:22.3308, ssim:0.9663, psnr:37.3502\n",
            "Epoch: 14 | Train Loss: 0.0003 Vali Loss: 0.0004\n",
            "\n",
            "train loss: 0.0004: 100% 614/614 [02:10<00:00,  4.70it/s]\n",
            "vali loss: 0.0001:  75% 63/84 [00:03<00:01, 17.75it/s]\n",
            "vali mse:0.6438, mae:20.0837, ssim:0.9735, psnr:38.3442\n",
            "Epoch: 15 | Train Loss: 0.0003 Vali Loss: 0.0003\n",
            "\n",
            "train loss: 0.0002: 100% 614/614 [02:09<00:00,  4.73it/s]\n",
            "vali loss: 0.0001:  75% 63/84 [00:03<00:01, 17.67it/s]\n",
            "vali mse:0.6153, mae:22.8606, ssim:0.9667, psnr:37.5946\n",
            "Epoch: 16 | Train Loss: 0.0003 Vali Loss: 0.0003\n",
            "\n",
            "train loss: 0.0002: 100% 614/614 [02:10<00:00,  4.71it/s]\n",
            "vali loss: 0.0001:  75% 63/84 [00:03<00:01, 17.71it/s]\n",
            "vali mse:0.6750, mae:24.8529, ssim:0.9632, psnr:37.0940\n",
            "Epoch: 17 | Train Loss: 0.0003 Vali Loss: 0.0003\n",
            "\n",
            "train loss: 0.0002: 100% 614/614 [02:09<00:00,  4.73it/s]\n",
            "vali loss: 0.0001:  75% 63/84 [00:03<00:01, 17.93it/s]\n",
            "vali mse:0.6010, mae:19.6776, ssim:0.9739, psnr:38.3356\n",
            "Epoch: 18 | Train Loss: 0.0003 Vali Loss: 0.0003\n",
            "\n",
            "Validation loss decreased (0.000299 --> 0.000293).  Saving model ...\n",
            "train loss: 0.0002: 100% 614/614 [02:10<00:00,  4.71it/s]\n",
            "vali loss: 0.0001:  75% 63/84 [00:03<00:01, 17.06it/s]\n",
            "vali mse:0.5378, mae:18.2247, ssim:0.9764, psnr:38.8248\n",
            "Epoch: 19 | Train Loss: 0.0002 Vali Loss: 0.0003\n",
            "\n",
            "Validation loss decreased (0.000293 --> 0.000263).  Saving model ...\n",
            "train loss: 0.0002: 100% 614/614 [02:09<00:00,  4.73it/s]\n",
            "vali loss: 0.0001:  75% 63/84 [00:03<00:01, 18.03it/s]\n",
            "vali mse:0.6196, mae:23.1303, ssim:0.9672, psnr:37.5337\n",
            "Epoch: 20 | Train Loss: 0.0002 Vali Loss: 0.0003\n",
            "\n",
            "train loss: 0.0002: 100% 614/614 [02:10<00:00,  4.70it/s]\n",
            "vali loss: 0.0001:  75% 63/84 [00:03<00:01, 17.67it/s]\n",
            "vali mse:0.5825, mae:19.4408, ssim:0.9765, psnr:38.6580\n",
            "Epoch: 21 | Train Loss: 0.0002 Vali Loss: 0.0003\n",
            "\n",
            "train loss: 0.0008: 100% 614/614 [02:09<00:00,  4.72it/s]\n",
            "vali loss: 0.0001:  75% 63/84 [00:03<00:01, 17.65it/s]\n",
            "vali mse:0.6464, mae:19.9546, ssim:0.9741, psnr:38.1783\n",
            "Epoch: 22 | Train Loss: 0.0002 Vali Loss: 0.0003\n",
            "\n",
            "train loss: 0.0002: 100% 614/614 [02:10<00:00,  4.69it/s]\n",
            "vali loss: 0.0001:  75% 63/84 [00:03<00:01, 17.51it/s]\n",
            "vali mse:0.5247, mae:18.3483, ssim:0.9776, psnr:38.9620\n",
            "Epoch: 23 | Train Loss: 0.0002 Vali Loss: 0.0003\n",
            "\n",
            "Validation loss decreased (0.000263 --> 0.000256).  Saving model ...\n",
            "train loss: 0.0002: 100% 614/614 [02:09<00:00,  4.73it/s]\n",
            "vali loss: 0.0001:  75% 63/84 [00:03<00:01, 17.64it/s]\n",
            "vali mse:0.5295, mae:17.9486, ssim:0.9778, psnr:39.0589\n",
            "Epoch: 24 | Train Loss: 0.0002 Vali Loss: 0.0003\n",
            "\n",
            "train loss: 0.0002: 100% 614/614 [02:10<00:00,  4.71it/s]\n",
            "vali loss: 0.0001:  75% 63/84 [00:03<00:01, 17.83it/s]\n",
            "vali mse:0.5313, mae:17.9196, ssim:0.9775, psnr:38.9253\n",
            "Epoch: 25 | Train Loss: 0.0002 Vali Loss: 0.0003\n",
            "\n",
            "train loss: 0.0005: 100% 614/614 [02:09<00:00,  4.73it/s]\n",
            "vali loss: 0.0002:  75% 63/84 [00:03<00:01, 17.60it/s]\n",
            "vali mse:0.8855, mae:27.4890, ssim:0.9537, psnr:36.3974\n",
            "Epoch: 26 | Train Loss: 0.0002 Vali Loss: 0.0004\n",
            "\n",
            "train loss: 0.0002: 100% 614/614 [02:10<00:00,  4.71it/s]\n",
            "vali loss: 0.0001:  75% 63/84 [00:03<00:01, 17.64it/s]\n",
            "vali mse:0.5564, mae:18.2806, ssim:0.9777, psnr:38.8620\n",
            "Epoch: 27 | Train Loss: 0.0002 Vali Loss: 0.0003\n",
            "\n",
            "train loss: 0.0002: 100% 614/614 [02:09<00:00,  4.73it/s]\n",
            "vali loss: 0.0001:  75% 63/84 [00:03<00:01, 17.77it/s]\n",
            "vali mse:0.5579, mae:18.9384, ssim:0.9752, psnr:38.6437\n",
            "Epoch: 28 | Train Loss: 0.0002 Vali Loss: 0.0003\n",
            "\n",
            "train loss: 0.0002: 100% 614/614 [02:09<00:00,  4.72it/s]\n",
            "vali loss: 0.0001:  75% 63/84 [00:03<00:01, 17.60it/s]\n",
            "vali mse:0.4945, mae:17.4447, ssim:0.9786, psnr:39.1871\n",
            "Epoch: 29 | Train Loss: 0.0002 Vali Loss: 0.0002\n",
            "\n",
            "Validation loss decreased (0.000256 --> 0.000241).  Saving model ...\n",
            "train loss: 0.0002: 100% 614/614 [02:10<00:00,  4.71it/s]\n",
            "vali loss: 0.0001:  75% 63/84 [00:03<00:01, 17.43it/s]\n",
            "vali mse:0.4911, mae:17.3285, ssim:0.9793, psnr:39.2251\n",
            "Epoch: 30 | Train Loss: 0.0002 Vali Loss: 0.0002\n",
            "\n",
            "Validation loss decreased (0.000241 --> 0.000240).  Saving model ...\n",
            "train loss: 0.0002: 100% 614/614 [02:09<00:00,  4.73it/s]\n",
            "vali loss: 0.0001:  75% 63/84 [00:03<00:01, 17.92it/s]\n",
            "vali mse:0.5451, mae:18.7981, ssim:0.9762, psnr:38.8543\n",
            "Epoch: 31 | Train Loss: 0.0002 Vali Loss: 0.0003\n",
            "\n",
            "train loss: 0.0002: 100% 614/614 [02:10<00:00,  4.70it/s]\n",
            "vali loss: 0.0001:  75% 63/84 [00:03<00:01, 17.85it/s]\n",
            "vali mse:0.5091, mae:17.7883, ssim:0.9782, psnr:39.1523\n",
            "Epoch: 32 | Train Loss: 0.0002 Vali Loss: 0.0002\n",
            "\n",
            "train loss: 0.0002: 100% 614/614 [02:09<00:00,  4.73it/s]\n",
            "vali loss: 0.0001:  75% 63/84 [00:03<00:01, 17.45it/s]\n",
            "vali mse:0.4923, mae:17.4072, ssim:0.9795, psnr:39.2361\n",
            "Epoch: 33 | Train Loss: 0.0002 Vali Loss: 0.0002\n",
            "\n",
            "train loss: 0.0002: 100% 614/614 [02:10<00:00,  4.70it/s]\n",
            "vali loss: 0.0001:  75% 63/84 [00:03<00:01, 17.65it/s]\n",
            "vali mse:0.4721, mae:16.9592, ssim:0.9800, psnr:39.3412\n",
            "Epoch: 34 | Train Loss: 0.0002 Vali Loss: 0.0002\n",
            "\n",
            "Validation loss decreased (0.000240 --> 0.000231).  Saving model ...\n",
            "train loss: 0.0002: 100% 614/614 [02:09<00:00,  4.73it/s]\n",
            "vali loss: 0.0001:  75% 63/84 [00:03<00:01, 17.46it/s]\n",
            "vali mse:0.4870, mae:17.3056, ssim:0.9785, psnr:39.1190\n",
            "Epoch: 35 | Train Loss: 0.0002 Vali Loss: 0.0002\n",
            "\n",
            "train loss: 0.0001: 100% 614/614 [02:10<00:00,  4.71it/s]\n",
            "vali loss: 0.0001:  75% 63/84 [00:03<00:01, 17.44it/s]\n",
            "vali mse:0.4831, mae:17.0740, ssim:0.9794, psnr:39.3212\n",
            "Epoch: 36 | Train Loss: 0.0002 Vali Loss: 0.0002\n",
            "\n",
            "train loss: 0.0002: 100% 614/614 [02:09<00:00,  4.73it/s]\n",
            "vali loss: 0.0001:  75% 63/84 [00:03<00:01, 17.74it/s]\n",
            "vali mse:0.5111, mae:17.5936, ssim:0.9781, psnr:39.0650\n",
            "Epoch: 37 | Train Loss: 0.0002 Vali Loss: 0.0002\n",
            "\n",
            "train loss: 0.0001: 100% 614/614 [02:09<00:00,  4.73it/s]\n",
            "vali loss: 0.0001:  75% 63/84 [00:05<00:01, 12.37it/s]\n",
            "vali mse:0.4746, mae:17.1819, ssim:0.9795, psnr:39.3523\n",
            "Epoch: 38 | Train Loss: 0.0002 Vali Loss: 0.0002\n",
            "\n",
            "train loss: 0.0002: 100% 614/614 [02:09<00:00,  4.72it/s]\n",
            "vali loss: 0.0001:  75% 63/84 [00:03<00:01, 17.84it/s]\n",
            "vali mse:0.4790, mae:17.2034, ssim:0.9789, psnr:39.3418\n",
            "Epoch: 39 | Train Loss: 0.0002 Vali Loss: 0.0002\n",
            "\n",
            "train loss: 0.0002: 100% 614/614 [02:09<00:00,  4.73it/s]\n",
            "vali loss: 0.0001:  75% 63/84 [00:03<00:01, 17.42it/s]\n",
            "vali mse:0.5618, mae:18.7912, ssim:0.9760, psnr:38.7481\n",
            "Epoch: 40 | Train Loss: 0.0001 Vali Loss: 0.0003\n",
            "\n",
            "train loss: 0.0001: 100% 614/614 [02:10<00:00,  4.70it/s]\n",
            "vali loss: 0.0001:  75% 63/84 [00:03<00:01, 17.74it/s]\n",
            "vali mse:0.4842, mae:17.0223, ssim:0.9791, psnr:39.3362\n",
            "Epoch: 41 | Train Loss: 0.0001 Vali Loss: 0.0002\n",
            "\n",
            "train loss: 0.0001: 100% 614/614 [02:09<00:00,  4.72it/s]\n",
            "vali loss: 0.0001:  75% 63/84 [00:03<00:01, 17.67it/s]\n",
            "vali mse:0.5180, mae:17.6171, ssim:0.9781, psnr:39.1798\n",
            "Epoch: 42 | Train Loss: 0.0001 Vali Loss: 0.0003\n",
            "\n",
            "train loss: 0.0002: 100% 614/614 [02:10<00:00,  4.71it/s]\n",
            "vali loss: 0.0001:  75% 63/84 [00:03<00:01, 17.44it/s]\n",
            "vali mse:0.4829, mae:17.0127, ssim:0.9794, psnr:39.3907\n",
            "Epoch: 43 | Train Loss: 0.0001 Vali Loss: 0.0002\n",
            "\n",
            "train loss: 0.0002: 100% 614/614 [02:09<00:00,  4.73it/s]\n",
            "vali loss: 0.0001:  75% 63/84 [00:03<00:01, 17.94it/s]\n",
            "vali mse:0.4862, mae:16.9684, ssim:0.9791, psnr:39.3747\n",
            "Epoch: 44 | Train Loss: 0.0001 Vali Loss: 0.0002\n",
            "\n",
            "train loss: 0.0001: 100% 614/614 [02:10<00:00,  4.70it/s]\n",
            "vali loss: 0.0001:  75% 63/84 [00:03<00:01, 17.76it/s]\n",
            "vali mse:0.4801, mae:16.9228, ssim:0.9793, psnr:39.4028\n",
            "Epoch: 45 | Train Loss: 0.0001 Vali Loss: 0.0002\n",
            "\n",
            "train loss: 0.0001: 100% 614/614 [02:09<00:00,  4.73it/s]\n",
            "vali loss: 0.0001:  75% 63/84 [00:03<00:01, 17.56it/s]\n",
            "vali mse:0.4887, mae:16.9829, ssim:0.9791, psnr:39.3844\n",
            "Epoch: 46 | Train Loss: 0.0001 Vali Loss: 0.0002\n",
            "\n",
            "train loss: 0.0002: 100% 614/614 [02:10<00:00,  4.69it/s]\n",
            "vali loss: 0.0001:  75% 63/84 [00:03<00:01, 17.37it/s]\n",
            "vali mse:0.4865, mae:16.9431, ssim:0.9793, psnr:39.4068\n",
            "Epoch: 47 | Train Loss: 0.0001 Vali Loss: 0.0002\n",
            "\n",
            "train loss: 0.0001: 100% 614/614 [02:10<00:00,  4.72it/s]\n",
            "vali loss: 0.0001:  75% 63/84 [00:04<00:01, 13.28it/s]\n",
            "vali mse:0.4902, mae:17.0037, ssim:0.9790, psnr:39.3729\n",
            "Epoch: 48 | Train Loss: 0.0001 Vali Loss: 0.0002\n",
            "\n",
            "train loss: 0.0001: 100% 614/614 [02:10<00:00,  4.72it/s]\n",
            "vali loss: 0.0001:  75% 63/84 [00:05<00:01, 11.85it/s]\n",
            "vali mse:0.4891, mae:16.9757, ssim:0.9791, psnr:39.3945\n",
            "Epoch: 49 | Train Loss: 0.0001 Vali Loss: 0.0002\n",
            "\n",
            "train loss: 0.0001: 100% 614/614 [02:10<00:00,  4.71it/s]\n",
            "vali loss: 0.0001:  75% 63/84 [00:03<00:01, 17.73it/s]\n",
            "vali mse:0.4894, mae:16.9893, ssim:0.9791, psnr:39.3903\n",
            "Epoch: 50 | Train Loss: 0.0001 Vali Loss: 0.0002\n",
            "\n",
            "train loss: 0.0001: 100% 614/614 [02:10<00:00,  4.72it/s]\n",
            "vali loss: 0.0001:  75% 63/84 [00:03<00:01, 17.55it/s]\n",
            "vali mse:0.4885, mae:16.9776, ssim:0.9791, psnr:39.3915\n",
            "Epoch: 51 | Train Loss: 0.0001 Vali Loss: 0.0002\n",
            "\n",
            ">>>>>>>>>>>>>>>>>>>>>>>>>>>> testing <<<<<<<<<<<<<<<<<<<<<<<<<<<<<<<\n",
            "mse:0.4313, mae:16.5739, ssim:0.9817, psnr:39.4134\n"
          ]
        }
      ]
    },
    {
      "cell_type": "markdown",
      "source": [
        "# import lib"
      ],
      "metadata": {
        "id": "W-j4g2st5PDg"
      }
    },
    {
      "cell_type": "code",
      "source": [
        "!pip install hickle"
      ],
      "metadata": {
        "colab": {
          "base_uri": "https://localhost:8080/"
        },
        "id": "YhtO80s72VMv",
        "outputId": "a914f6c3-1ad1-47ac-bd0e-7b23506738b8"
      },
      "execution_count": null,
      "outputs": [
        {
          "output_type": "stream",
          "name": "stdout",
          "text": [
            "Looking in indexes: https://pypi.org/simple, https://us-python.pkg.dev/colab-wheels/public/simple/\n",
            "Requirement already satisfied: hickle in /usr/local/lib/python3.8/dist-packages (5.0.2)\n",
            "Requirement already satisfied: h5py>=2.10.0 in /usr/local/lib/python3.8/dist-packages (from hickle) (3.1.0)\n",
            "Requirement already satisfied: numpy!=1.20,>=1.8 in /usr/local/lib/python3.8/dist-packages (from hickle) (1.21.6)\n"
          ]
        }
      ]
    },
    {
      "cell_type": "code",
      "source": [
        "!pip install torch"
      ],
      "metadata": {
        "colab": {
          "base_uri": "https://localhost:8080/"
        },
        "id": "qXMTA3Zx4eu4",
        "outputId": "8edef7de-d797-4396-8234-45eb69a0a400"
      },
      "execution_count": null,
      "outputs": [
        {
          "output_type": "stream",
          "name": "stdout",
          "text": [
            "Looking in indexes: https://pypi.org/simple, https://us-python.pkg.dev/colab-wheels/public/simple/\n",
            "Requirement already satisfied: torch in /usr/local/lib/python3.8/dist-packages (1.13.0+cu116)\n",
            "Requirement already satisfied: typing-extensions in /usr/local/lib/python3.8/dist-packages (from torch) (4.4.0)\n"
          ]
        }
      ]
    },
    {
      "cell_type": "code",
      "source": [
        "!pip install nni"
      ],
      "metadata": {
        "colab": {
          "base_uri": "https://localhost:8080/"
        },
        "id": "ho5sLLkn5AzI",
        "outputId": "cc9a3ccd-c9ab-4f6e-ea70-3502077a2471"
      },
      "execution_count": null,
      "outputs": [
        {
          "output_type": "stream",
          "name": "stdout",
          "text": [
            "Looking in indexes: https://pypi.org/simple, https://us-python.pkg.dev/colab-wheels/public/simple/\n",
            "Requirement already satisfied: nni in /usr/local/lib/python3.8/dist-packages (2.10)\n",
            "Requirement already satisfied: typing-extensions>=4.0.0 in /usr/local/lib/python3.8/dist-packages (from nni) (4.4.0)\n",
            "Requirement already satisfied: tqdm in /usr/local/lib/python3.8/dist-packages (from nni) (4.64.1)\n",
            "Requirement already satisfied: pandas in /usr/local/lib/python3.8/dist-packages (from nni) (1.3.5)\n",
            "Requirement already satisfied: psutil in /usr/local/lib/python3.8/dist-packages (from nni) (5.4.8)\n",
            "Requirement already satisfied: numpy in /usr/local/lib/python3.8/dist-packages (from nni) (1.21.6)\n",
            "Requirement already satisfied: responses in /usr/local/lib/python3.8/dist-packages (from nni) (0.22.0)\n",
            "Requirement already satisfied: typeguard in /usr/local/lib/python3.8/dist-packages (from nni) (2.7.1)\n",
            "Requirement already satisfied: scipy in /usr/local/lib/python3.8/dist-packages (from nni) (1.7.3)\n",
            "Requirement already satisfied: cloudpickle in /usr/local/lib/python3.8/dist-packages (from nni) (1.5.0)\n",
            "Requirement already satisfied: websockets>=10.1 in /usr/local/lib/python3.8/dist-packages (from nni) (10.4)\n",
            "Requirement already satisfied: json-tricks>=3.15.5 in /usr/local/lib/python3.8/dist-packages (from nni) (3.16.1)\n",
            "Requirement already satisfied: astor in /usr/local/lib/python3.8/dist-packages (from nni) (0.8.1)\n",
            "Requirement already satisfied: schema in /usr/local/lib/python3.8/dist-packages (from nni) (0.7.5)\n",
            "Requirement already satisfied: packaging in /usr/local/lib/python3.8/dist-packages (from nni) (21.3)\n",
            "Requirement already satisfied: colorama in /usr/local/lib/python3.8/dist-packages (from nni) (0.4.6)\n",
            "Requirement already satisfied: prettytable in /usr/local/lib/python3.8/dist-packages (from nni) (3.5.0)\n",
            "Requirement already satisfied: scikit-learn>=0.24.1 in /usr/local/lib/python3.8/dist-packages (from nni) (1.0.2)\n",
            "Requirement already satisfied: pyyaml>=5.4 in /usr/local/lib/python3.8/dist-packages (from nni) (6.0)\n",
            "Requirement already satisfied: PythonWebHDFS in /usr/local/lib/python3.8/dist-packages (from nni) (0.2.3)\n",
            "Requirement already satisfied: requests in /usr/local/lib/python3.8/dist-packages (from nni) (2.23.0)\n",
            "Requirement already satisfied: filelock in /usr/local/lib/python3.8/dist-packages (from nni) (3.8.2)\n",
            "Requirement already satisfied: joblib>=0.11 in /usr/local/lib/python3.8/dist-packages (from scikit-learn>=0.24.1->nni) (1.2.0)\n",
            "Requirement already satisfied: threadpoolctl>=2.0.0 in /usr/local/lib/python3.8/dist-packages (from scikit-learn>=0.24.1->nni) (3.1.0)\n",
            "Requirement already satisfied: pyparsing!=3.0.5,>=2.0.2 in /usr/local/lib/python3.8/dist-packages (from packaging->nni) (3.0.9)\n",
            "Requirement already satisfied: pytz>=2017.3 in /usr/local/lib/python3.8/dist-packages (from pandas->nni) (2022.6)\n",
            "Requirement already satisfied: python-dateutil>=2.7.3 in /usr/local/lib/python3.8/dist-packages (from pandas->nni) (2.8.2)\n",
            "Requirement already satisfied: six>=1.5 in /usr/local/lib/python3.8/dist-packages (from python-dateutil>=2.7.3->pandas->nni) (1.15.0)\n",
            "Requirement already satisfied: wcwidth in /usr/local/lib/python3.8/dist-packages (from prettytable->nni) (0.2.5)\n",
            "Requirement already satisfied: simplejson in /usr/local/lib/python3.8/dist-packages (from PythonWebHDFS->nni) (3.18.0)\n",
            "Requirement already satisfied: idna<3,>=2.5 in /usr/local/lib/python3.8/dist-packages (from requests->nni) (2.10)\n",
            "Requirement already satisfied: urllib3!=1.25.0,!=1.25.1,<1.26,>=1.21.1 in /usr/local/lib/python3.8/dist-packages (from requests->nni) (1.25.11)\n",
            "Requirement already satisfied: certifi>=2017.4.17 in /usr/local/lib/python3.8/dist-packages (from requests->nni) (2022.12.7)\n",
            "Requirement already satisfied: chardet<4,>=3.0.2 in /usr/local/lib/python3.8/dist-packages (from requests->nni) (3.0.4)\n",
            "Requirement already satisfied: toml in /usr/local/lib/python3.8/dist-packages (from responses->nni) (0.10.2)\n",
            "Requirement already satisfied: types-toml in /usr/local/lib/python3.8/dist-packages (from responses->nni) (0.10.8.1)\n",
            "Requirement already satisfied: contextlib2>=0.5.5 in /usr/local/lib/python3.8/dist-packages (from schema->nni) (0.5.5)\n"
          ]
        }
      ]
    },
    {
      "cell_type": "code",
      "source": [
        "!pip install fvcore"
      ],
      "metadata": {
        "colab": {
          "base_uri": "https://localhost:8080/"
        },
        "id": "EzPFVvrQ5EDl",
        "outputId": "944dcb93-3bb6-420b-ebfd-f1cca1385884"
      },
      "execution_count": null,
      "outputs": [
        {
          "output_type": "stream",
          "name": "stdout",
          "text": [
            "Looking in indexes: https://pypi.org/simple, https://us-python.pkg.dev/colab-wheels/public/simple/\n",
            "Requirement already satisfied: fvcore in /usr/local/lib/python3.8/dist-packages (0.1.5.post20221221)\n",
            "Requirement already satisfied: iopath>=0.1.7 in /usr/local/lib/python3.8/dist-packages (from fvcore) (0.1.10)\n",
            "Requirement already satisfied: termcolor>=1.1 in /usr/local/lib/python3.8/dist-packages (from fvcore) (2.1.1)\n",
            "Requirement already satisfied: yacs>=0.1.6 in /usr/local/lib/python3.8/dist-packages (from fvcore) (0.1.8)\n",
            "Requirement already satisfied: numpy in /usr/local/lib/python3.8/dist-packages (from fvcore) (1.21.6)\n",
            "Requirement already satisfied: pyyaml>=5.1 in /usr/local/lib/python3.8/dist-packages (from fvcore) (6.0)\n",
            "Requirement already satisfied: Pillow in /usr/local/lib/python3.8/dist-packages (from fvcore) (7.1.2)\n",
            "Requirement already satisfied: tabulate in /usr/local/lib/python3.8/dist-packages (from fvcore) (0.8.10)\n",
            "Requirement already satisfied: tqdm in /usr/local/lib/python3.8/dist-packages (from fvcore) (4.64.1)\n",
            "Requirement already satisfied: typing-extensions in /usr/local/lib/python3.8/dist-packages (from iopath>=0.1.7->fvcore) (4.4.0)\n",
            "Requirement already satisfied: portalocker in /usr/local/lib/python3.8/dist-packages (from iopath>=0.1.7->fvcore) (2.6.0)\n"
          ]
        }
      ]
    },
    {
      "cell_type": "code",
      "source": [
        "!pip install constants"
      ],
      "metadata": {
        "colab": {
          "base_uri": "https://localhost:8080/"
        },
        "id": "dM7VM4Gk5G2c",
        "outputId": "fa7f3bfb-958c-4839-8fc9-a8339c1dd827"
      },
      "execution_count": null,
      "outputs": [
        {
          "output_type": "stream",
          "name": "stdout",
          "text": [
            "Looking in indexes: https://pypi.org/simple, https://us-python.pkg.dev/colab-wheels/public/simple/\n",
            "Requirement already satisfied: constants in /usr/local/lib/python3.8/dist-packages (0.6.0)\n"
          ]
        }
      ]
    },
    {
      "cell_type": "code",
      "source": [
        "!pip install timm"
      ],
      "metadata": {
        "colab": {
          "base_uri": "https://localhost:8080/"
        },
        "id": "5QbPWBxK5Jt3",
        "outputId": "e56c5333-9769-40c0-f607-62b11f8d5d8b"
      },
      "execution_count": null,
      "outputs": [
        {
          "output_type": "stream",
          "name": "stdout",
          "text": [
            "Looking in indexes: https://pypi.org/simple, https://us-python.pkg.dev/colab-wheels/public/simple/\n",
            "Requirement already satisfied: timm in /usr/local/lib/python3.8/dist-packages (0.6.12)\n",
            "Requirement already satisfied: huggingface-hub in /usr/local/lib/python3.8/dist-packages (from timm) (0.11.1)\n",
            "Requirement already satisfied: torch>=1.7 in /usr/local/lib/python3.8/dist-packages (from timm) (1.13.0+cu116)\n",
            "Requirement already satisfied: pyyaml in /usr/local/lib/python3.8/dist-packages (from timm) (6.0)\n",
            "Requirement already satisfied: torchvision in /usr/local/lib/python3.8/dist-packages (from timm) (0.14.0+cu116)\n",
            "Requirement already satisfied: typing-extensions in /usr/local/lib/python3.8/dist-packages (from torch>=1.7->timm) (4.4.0)\n",
            "Requirement already satisfied: requests in /usr/local/lib/python3.8/dist-packages (from huggingface-hub->timm) (2.23.0)\n",
            "Requirement already satisfied: packaging>=20.9 in /usr/local/lib/python3.8/dist-packages (from huggingface-hub->timm) (21.3)\n",
            "Requirement already satisfied: tqdm in /usr/local/lib/python3.8/dist-packages (from huggingface-hub->timm) (4.64.1)\n",
            "Requirement already satisfied: filelock in /usr/local/lib/python3.8/dist-packages (from huggingface-hub->timm) (3.8.2)\n",
            "Requirement already satisfied: pyparsing!=3.0.5,>=2.0.2 in /usr/local/lib/python3.8/dist-packages (from packaging>=20.9->huggingface-hub->timm) (3.0.9)\n",
            "Requirement already satisfied: certifi>=2017.4.17 in /usr/local/lib/python3.8/dist-packages (from requests->huggingface-hub->timm) (2022.12.7)\n",
            "Requirement already satisfied: idna<3,>=2.5 in /usr/local/lib/python3.8/dist-packages (from requests->huggingface-hub->timm) (2.10)\n",
            "Requirement already satisfied: chardet<4,>=3.0.2 in /usr/local/lib/python3.8/dist-packages (from requests->huggingface-hub->timm) (3.0.4)\n",
            "Requirement already satisfied: urllib3!=1.25.0,!=1.25.1,<1.26,>=1.21.1 in /usr/local/lib/python3.8/dist-packages (from requests->huggingface-hub->timm) (1.25.11)\n",
            "Requirement already satisfied: numpy in /usr/local/lib/python3.8/dist-packages (from torchvision->timm) (1.21.6)\n",
            "Requirement already satisfied: pillow!=8.3.*,>=5.3.0 in /usr/local/lib/python3.8/dist-packages (from torchvision->timm) (7.1.2)\n"
          ]
        }
      ]
    },
    {
      "cell_type": "code",
      "source": [
        "!pip install addict"
      ],
      "metadata": {
        "colab": {
          "base_uri": "https://localhost:8080/"
        },
        "id": "zAJ1bpAV5L71",
        "outputId": "0a26f2ef-5178-4eab-a36c-ce53de0dafe6"
      },
      "execution_count": null,
      "outputs": [
        {
          "output_type": "stream",
          "name": "stdout",
          "text": [
            "Looking in indexes: https://pypi.org/simple, https://us-python.pkg.dev/colab-wheels/public/simple/\n",
            "Requirement already satisfied: addict in /usr/local/lib/python3.8/dist-packages (2.4.0)\n"
          ]
        }
      ]
    },
    {
      "cell_type": "code",
      "source": [],
      "metadata": {
        "id": "SCXLd2pe5NXF"
      },
      "execution_count": null,
      "outputs": []
    }
  ]
}